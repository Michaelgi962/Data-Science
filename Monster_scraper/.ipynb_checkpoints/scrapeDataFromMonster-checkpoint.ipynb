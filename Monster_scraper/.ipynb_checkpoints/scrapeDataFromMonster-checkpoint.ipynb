{
 "cells": [
  {
   "cell_type": "markdown",
   "metadata": {},
   "source": [
    "# Scrape Data From Monster"
   ]
  },
  {
   "cell_type": "code",
   "execution_count": 511,
   "metadata": {},
   "outputs": [],
   "source": [
    "# Get the text data from the first job posting\n",
    "import pandas as pd\n",
    "import requests # For website connections\n",
    "from bs4 import BeautifulSoup # For HTML parsing\n",
    "import time\n",
    "from nltk.corpus import stopwords # Filter oustopwordsopwords, such as 'the', 'or', 'and'\n",
    "import re # Regular expressions\n",
    "from itertools import groupby"
   ]
  },
  {
   "cell_type": "markdown",
   "metadata": {},
   "source": [
    "## Get a URL for a Job Search for a chosen State"
   ]
  },
  {
   "cell_type": "code",
   "execution_count": 530,
   "metadata": {},
   "outputs": [],
   "source": [
    "url_state = 'NY'\n",
    "#url = \"https://www.monster.com/jobs/search/?q=Data-Scientist&where=\"+url_state\n",
    "url = 'https://www.monster.com/jobs/search/?q=data-scientist&where=NY&stpage=1&page=10'"
   ]
  },
  {
   "cell_type": "markdown",
   "metadata": {},
   "source": [
    "### Store the job search in a beautiful soup object"
   ]
  },
  {
   "cell_type": "code",
   "execution_count": 531,
   "metadata": {},
   "outputs": [],
   "source": [
    "#Access the website\n",
    "response = requests.get(url)\n",
    "##print(response)  #Response 200 means the get request was a success\n",
    "soup = BeautifulSoup(response.text, \"html.parser\")"
   ]
  },
  {
   "cell_type": "markdown",
   "metadata": {},
   "source": [
    "#### Get the job post URLs"
   ]
  },
  {
   "cell_type": "code",
   "execution_count": 532,
   "metadata": {},
   "outputs": [],
   "source": [
    "#Use .get() to find attribute in each element in a list"
   ]
  },
  {
   "cell_type": "code",
   "execution_count": 533,
   "metadata": {},
   "outputs": [],
   "source": [
    "#Access every URL with the find_all function\n",
    "##print(soup.find_all('a'))\n",
    "links = []\n",
    "#Access every URL within the list of returned urls from findall\n",
    "for link in soup.find_all('a'):\n",
    "    if link.get('href')[0:21] == 'https://job-openings.': ## a job opening always begins with 'https://job-openings.monster.com'\n",
    "        links.append(link.get('href'))        "
   ]
  },
  {
   "cell_type": "markdown",
   "metadata": {},
   "source": [
    "#### Get The Soup For The First Job Post"
   ]
  },
  {
   "cell_type": "code",
   "execution_count": 535,
   "metadata": {},
   "outputs": [],
   "source": [
    "#Access the website\n",
    "response = requests.get(links[0])\n",
    "soup = BeautifulSoup(response.text, \"html.parser\")"
   ]
  },
  {
   "cell_type": "markdown",
   "metadata": {},
   "source": [
    "##### Get the Job Title From the First Job Post's Soup"
   ]
  },
  {
   "cell_type": "code",
   "execution_count": 536,
   "metadata": {},
   "outputs": [
    {
     "data": {
      "text/plain": [
       "'Data Scientist job at comScore, Inc.'"
      ]
     },
     "execution_count": 536,
     "metadata": {},
     "output_type": "execute_result"
    }
   ],
   "source": [
    "url_job_title = soup.title.string[0:-14]\n",
    "url_job_title"
   ]
  },
  {
   "cell_type": "markdown",
   "metadata": {},
   "source": [
    "##### Get The Text From The First Post"
   ]
  },
  {
   "cell_type": "code",
   "execution_count": 537,
   "metadata": {},
   "outputs": [],
   "source": [
    "text = soup.body.find_all('script')[1]"
   ]
  },
  {
   "cell_type": "code",
   "execution_count": 544,
   "metadata": {},
   "outputs": [
    {
     "data": {
      "text/plain": [
       "<script type=\"application/ld+json\">\n",
       "        {\"@type\":\"JobPosting\",\"@context\":\"http://schema.org\",\"title\":\"Data Scientist\",\"datePosted\":\"2019-03-05\",\"description\":\"<h2>Job Description</h2><p><strong>Job Title: Data Scientist </strong></p><p><strong>Location: New York, New York (Must Be Able To Start March 2019)</strong></p><p> </p><p><strong>About This Role:</strong></p><p>Come join us! Comscore is a media measurement company providing multi-screen reporting and analytics with cutting-edge technology to serve clients in the entertainment, media, retail, and advertising industries. Comscore's data science team helps design the intelligent engines that power the company's advanced Media Ratings, Movies & TV Everywhere measurement systems. Through our research, Comscore builds projections that make the massive amount of raw data we take in from screens across the world meaningful and useful for our clients. We are currently seeking a Data Scientist to add to our growing company of talented team members. This role will support the justification and validation of data models and methodological approaches.</p><p> </p><p><strong>What You’ll Do: </strong></p><ul> <li>Develop analytical approaches to answer high-level questions and develop insightful recommendations. Author analytical summaries and methodology evaluations.</li> <li>Select appropriate methods and techniques in performing experiments.</li> <li>Utilizes software including SQL, Python/R, and UNIX/Linux as well as internal and third-party tools to generate, analyze, and deliver data driven insights.</li> <li>Serves as subject matter expert on Comscore's TV methodologies.</li> <li>Collaborate with Analytics, Engineering, and Best Practices teams to meet and support business goals. </li> <li>Develop routine analytical methods; pro-actively seek out potential solutions to issues.</li> <li>Convey cohesive story lines grounded in quantitative and qualitative analysis.</li> <li>Provide suggestions to advance and improve methodologies.</li> <li>Provide complex troubleshooting of analytical methods.</li> <li>Support industry audit requirements.</li> <li>In Addition: Develop and test new methodologies, features and concepts, and integrate into production process.</li> <li>Participate in ongoing research and evaluation of new technologies and analytical solutions.</li> <li>Exercise your experience in the development life-cycle through analysis, design, development, testing and deployment of this system. Uses attention to detail and problem-solving skills to find and correct data problems, applying statistical methods to adjust and project results when necessary. Works across teams and functions to drive process improvement initiatives.</li> <li>Responsible for the timely and error-free operation, production and delivery of syndicated product data. Ensures the integrity and validity of data for On Demand, Linear TV, Digital, and Cross Platform products.</li> <li>Support the research and investigation of client-reported inquiries</li></ul><p> </p><p><strong>What You’ll Need:</strong></p><ul> <li>A degree in a quantitatively focused discipline (i.e., Statistics or Economics, Data/Computer Science or Engineering, Systems Engineering, Computation Finance, Operations Research, Mathematics or Physics, etc.).</li> <li>3-5 years of experience in the synthesis of research findings and making data-driven arguments.</li> <li>Expertise at querying and manipulating data in preparation for analytics or data visualization using SQL, Spark, R/Python, etc.</li> <li>Ability to learn complex methodologies quickly and draw on your creative problem-solving skills to achieve results.</li> <li>Ability to convey complex analytical approaches and findings; writing skills are essential.</li> <li>Intrinsic ability to look at data and identify patterns, problems, or analysis opportunities.</li> <li>Ability to autonomously manage simultaneous projects in a fast-paced business environment.</li> <li>Ability to multi-task and work with manager to prioritize efficiently to meet deadlines.</li> <li>Experience with Media Rating Council (MRC) is a plus.</li></ul><p> </p><p><strong>About Comscore</strong></p><p>At Comscore, we’re pioneering the future of cross-platform media measurement, arming organizations with the insights they need to make decisions with confidence. Central to this aim are our people who work together to simplify the complex on behalf of our clients & partners. Though our roles and skills are varied, we’re united by our commitment to five underlying values: Integrity, Velocity, Accountability, Teamwork, and Servant Leadership. If you’re motivated by big challenges and interested in helping some of the largest and most important media properties and brands navigate the future of media, we’d love to hear from you.</p><p> </p><p>Comscore (NASDAQ: SCOR) is a trusted partner for planning, transacting and evaluating media across platforms. With a data footprint that combines digital, linear TV, over-the-top and theatrical viewership intelligence with advanced audience insights, Comscore allows media buyers and sellers to quantify their multi-screen behavior and make business decisions with confidence. A proven leader in measuring digital and set-top box audiences and advertising at scale, Comscore is the industry’s emerging, third-party source for reliable and comprehensive cross-platform measurement. To learn more about Comscore, please visit Comscore.com.</p><p> </p><p><strong>EEO Statement:</strong> We are an equal employment opportunity employer. All qualified applicants will receive consideration for employment without regard to race, color, religion, national origin, sex, disability status, sexual orientation, gender identity, age, protected veteran status or any other characteristic protected by law.</p><p> </p><p>To comply with federal law, Comscore participates in E-Verify. Successful candidates must pass the E-Verify process after hire.</p><p> </p><p>At this time, Comscore will not sponsor a new applicant for employment authorization for this position.</p><p> </p><p>*LI-JR1</p><p>*MSJR</p>\",\"industry\":[\"Telecommunications\"],\"jobLocation\":[{\"@type\":\"Place\",\"geo\":{\"@type\":\"GeoCoordinates\",\"latitude\":\"40.7142\",\"longitude\":\"-74.006\"},\"address\":{\"@type\":\"PostalAddress\",\"addressLocality\":\"New York\",\"addressRegion\":\"NY\",\"postalCode\":\"\",\"addressCountry\":\"US\"}}],\"url\":\"https://job-openings.monster.com/data-scientist-new-york-ny-us-comscore-inc/3c7c5675-b937-43b4-ac28-07c8e139c96f\",\"hiringOrganization\":{\"@type\":\"Organization\",\"name\":\"comScore, Inc.\"},\"occupationalCategory\":[\"15204100: Statisticians\"],\"validThrough\":\"2021-03-04\",\"salaryCurrency\":\"USD\",\"identifier\":{\"@type\":\"PropertyValue\",\"name\":\"comScore, Inc.\",\"value\":\"3c7c5675-b937-43b4-ac28-07c8e139c96f\"}}\n",
       "    </script>"
      ]
     },
     "execution_count": 544,
     "metadata": {},
     "output_type": "execute_result"
    }
   ],
   "source": [
    "text"
   ]
  },
  {
   "cell_type": "code",
   "execution_count": 538,
   "metadata": {},
   "outputs": [],
   "source": [
    "stop_words = set(stopwords.words(\"english\")) # Filter out any stop words\n",
    "#Remove All characters \n",
    "text_newest = [x[0] for x in groupby([x[0] for x in groupby(re.sub(\"[^a-zA-Z.+3]\",',',str(text).lower()).split(','))])]\n",
    "\n",
    "#Remove the empty spaces\n",
    "text_final = [x for x in text_newest if not x in stop_words and not x =='']"
   ]
  },
  {
   "cell_type": "code",
   "execution_count": 545,
   "metadata": {},
   "outputs": [
    {
     "data": {
      "text/plain": [
       "True"
      ]
     },
     "execution_count": 545,
     "metadata": {},
     "output_type": "execute_result"
    }
   ],
   "source": [
    "text_final"
   ]
  },
  {
   "cell_type": "markdown",
   "metadata": {},
   "source": [
    "#### Check the Job Skills"
   ]
  },
  {
   "cell_type": "code",
   "execution_count": 539,
   "metadata": {},
   "outputs": [],
   "source": [
    "#Initialize Empty State Set\n",
    "state = []\n",
    "job_title = []\n",
    "#Initialize Empty Skills List\n",
    "r = []\n",
    "python = []\n",
    "java = []\n",
    "cpp = []\n",
    "ruby = []\n",
    "perl = []\n",
    "matlab = []\n",
    "javascript = []\n",
    "scala = []\n",
    "excel = []\n",
    "vba = []\n",
    "tableau = []\n",
    "d3 = []\n",
    "hadoop = []\n",
    "mapreduce = []\n",
    "spark = []\n",
    "pig = []\n",
    "hive = []\n",
    "shark = []\n",
    "oozie = []\n",
    "zookeeper = []\n",
    "flume = []\n",
    "mahout = []\n",
    "sql = [] \n",
    "mysql = []\n",
    "oracle = []\n",
    "postgresql = []\n",
    "nosql =[]\n",
    "sybase = []\n",
    "rethinkdb = []\n",
    "memcacheddb = []\n",
    "couchdb = []\n",
    "hbase = []\n",
    "cassandra = []\n",
    "mongodb = []\n",
    "db2 = []\n",
    "\n",
    "skills = ['python',\n",
    "'java',\n",
    "'cpp',\n",
    "'ruby',\n",
    "'perl',\n",
    "'matlab',\n",
    "'javascript',\n",
    "'scala', \n",
    "'excel',\n",
    "'vba',\n",
    "'tableau',\n",
    "'d3',\n",
    "'hadoop',\n",
    "'mapreduce',\n",
    "'spark',\n",
    "'pig',\n",
    "'hive',\n",
    "'shark',\n",
    "'oozie',\n",
    "'zookeeper',\n",
    "'flume',\n",
    "'mahout',\n",
    "'sql', \n",
    "'mysql',\n",
    "'oracle',\n",
    "'postgresql',\n",
    "'nosql',\n",
    "'sybase',\n",
    "'rethinkdb',\n",
    "'memcacheddb',\n",
    "'couchdb',\n",
    "'hbase',\n",
    "'cassandra',\n",
    "'mongodb',\n",
    "'db2'\n",
    "]\n",
    "\n",
    "otherInfo = ['state','job_title']\n",
    "\n",
    "columns = otherInfo + skillsb"
   ]
  },
  {
   "cell_type": "code",
   "execution_count": 556,
   "metadata": {},
   "outputs": [],
   "source": [
    "#Append state\n",
    "state.append(url_state)\n",
    "\n",
    "#Append job_title\n",
    "job_title.append(url_job_title)\n",
    "\n",
    "#Check if the values are in the dataframe\n",
    "if ('r' in text_final) == True:\n",
    "    r.append(1)\n",
    "else: \n",
    "    r.append(0)\n",
    "\n",
    "if ('python' in text_final) == True:\n",
    "    python.append(1)\n",
    "else: \n",
    "    python.append(0)\n",
    "\n",
    "if ('java' in text_final) == True:\n",
    "    java.append(1)\n",
    "else: \n",
    "    java.append(0)\n",
    "    \n",
    "if ('c++' in text_final) == True:\n",
    "    cpp.append(1)\n",
    "else: \n",
    "    cpp.append(0)\n",
    "    \n",
    "if ('ruby' in text_final) == True:\n",
    "    ruby.append(1)\n",
    "else: \n",
    "    ruby.append(0)\n",
    "    \n",
    "if ('perl' in text_final) == True:\n",
    "    perl.append(1)\n",
    "else: \n",
    "    perl.append(0)\n",
    "    \n",
    "if ('matlab' in text_final) == True:\n",
    "    matlab.append(1)\n",
    "else: \n",
    "    matlab.append(0)\n",
    "\n",
    "if ('javascript' in text_final) == True:\n",
    "    javascript.append(1)\n",
    "else: \n",
    "    javascript.append(0)\n",
    "    \n",
    "if ('scala' in text_final) == True:\n",
    "    scala.append(1)\n",
    "else: \n",
    "    scala.append(0)\n",
    "\n",
    "if ('excel' in text_final) == True:\n",
    "    excel.append(1)\n",
    "else: \n",
    "    excel.append(0)\n",
    "\n",
    "if ('vba' in text_final) == True:\n",
    "    vba.append(1)\n",
    "else: \n",
    "    vba.append(0)\n",
    "        \n",
    "if ('tableau' in text_final) == True:\n",
    "    tableau.append(1)\n",
    "else: \n",
    "    tableau.append(0)\n",
    "    \n",
    "if ('d3' in text_final) == True:\n",
    "    d3.append(1)\n",
    "else: \n",
    "    d3.append(0)\n",
    "    \n",
    "if ('hadoop' in text_final) == True:\n",
    "    hadoop.append(1)\n",
    "else: \n",
    "    hadoop.append(0)\n",
    "    \n",
    "if ('mapreduce' in text_final) == True:\n",
    "    mapreduce.append(1)\n",
    "else: \n",
    "    mapreduce.append(0)\n",
    "    \n",
    "if ('spark' in text_final) == True:\n",
    "    spark.append(1)\n",
    "else: \n",
    "    spark.append(0)\n",
    "    \n",
    "if ('pig' in text_final) == True:\n",
    "    pig.append(1)\n",
    "else: \n",
    "    pig.append(0)\n",
    "    \n",
    "if ('hive' in text_final) == True:\n",
    "    hive.append(1)\n",
    "else: \n",
    "    hive.append(0)\n",
    "    \n",
    "if ('shark' in text_final) == True:\n",
    "    shark.append(1)\n",
    "else: \n",
    "    shark.append(0)\n",
    "    \n",
    "if ('oozie' in text_final) == True:\n",
    "    oozie.append(1)\n",
    "else: \n",
    "    oozie.append(0)\n",
    "    \n",
    "if ('zookeeper' in text_final) == True:\n",
    "    zookeeper.append(1)\n",
    "else: \n",
    "    zookeeper.append(0)\n",
    "    \n",
    "if ('flume' in text_final) == True:\n",
    "    flume.append(1)\n",
    "else: \n",
    "    flume.append(0)\n",
    "    \n",
    "if ('mahout' in text_final) == True:\n",
    "    mahout.append(1)\n",
    "else: \n",
    "    mahout.append(0)\n",
    "    \n",
    "if ('sql' in text_final) == True:\n",
    "    sql.append(1)\n",
    "else: \n",
    "    sql.append(0)\n",
    "    \n",
    "if ('mysql' in text_final) == True:\n",
    "    mysql.append(1)\n",
    "else: \n",
    "    mysql.append(0)\n",
    "    \n",
    "if ('oracle' in text_final) == True:\n",
    "    oracle.append(1)\n",
    "else: \n",
    "    oracle.append(0)\n",
    "    \n",
    "if ('postgresql' in text_final) == True:\n",
    "    postgresql.append(1)\n",
    "else: \n",
    "    postgresql.append(0)\n",
    "    \n",
    "if ('nosql' in text_final) == True:\n",
    "    nosql.append(1)\n",
    "else: \n",
    "    nosql.append(0)\n",
    "\n",
    "if ('sybase' in text_final) == True:\n",
    "    sybase.append(1)\n",
    "else: \n",
    "    sybase.append(0)\n",
    "    \n",
    "if ('rethinkdb' in text_final) == True:\n",
    "    rethinkdb.append(1)\n",
    "else: \n",
    "    rethinkdb.append(0)\n",
    "    \n",
    "if ('memcacheddb' in text_final) == True:\n",
    "    memcacheddb.append(1)\n",
    "else: \n",
    "    memcacheddb.append(0)\n",
    "    \n",
    "if ('couchdb' in text_final) == True:\n",
    "    couchdb.append(1)\n",
    "else: \n",
    "    couchdb.append(0)\n",
    "    \n",
    "if ('hbase' in text_final) == True:\n",
    "    hbase.append(1)\n",
    "else: \n",
    "    hbase.append(0)\n",
    "    \n",
    "if ('cassandra' in text_final) == True:\n",
    "    cassandra.append(1)\n",
    "else: \n",
    "    cassandra.append(0)\n",
    "    \n",
    "if ('mongodb' in text_final) == True:\n",
    "    mongodb.append(1)\n",
    "else: \n",
    "    mongodb.append(0)\n",
    "    \n",
    "if ('db2' in text_final) == True:\n",
    "    db2.append(1)\n",
    "else: \n",
    "    db2.append(0)\n"
   ]
  },
  {
   "cell_type": "code",
   "execution_count": 558,
   "metadata": {},
   "outputs": [],
   "source": [
    "\n",
    "dictionary = {'job_title':job_title,\n",
    "     'state':state,\n",
    "     'r':r,\n",
    "     'python':python,\n",
    "     'java':java,\n",
    "     'c++':cpp,\n",
    "     'ruby':ruby,\n",
    "     'perl':perl,\n",
    "     'matlab':matlab,\n",
    "     'javascript':javascript,\n",
    "     'scala':scala,\n",
    "     'excel':excel,\n",
    "     'vba':vba,\n",
    "     'tableau':tableau,\n",
    "     'd3':d3,\n",
    "     'hadoop':hadoop,\n",
    "     'mapreduce':mapreduce,\n",
    "     'spark':spark,\n",
    "     'pig':pig,\n",
    "     'hive':hive,\n",
    "     'shark':shark,\n",
    "     'oozie':oozie,\n",
    "     'zookeeper':zookeeper,\n",
    "     'flume':flume,\n",
    "     'mahout':mahout,\n",
    "     'sql':sql, \n",
    "     'mysql':mysql,\n",
    "     'oracle':oracle,\n",
    "     'postgresql':postgresql,\n",
    "     'nosql':nosql,\n",
    "     'sybase':sybase,\n",
    "     'rethinkdb':rethinkdb,\n",
    "     'memcacheddb':memcacheddb,\n",
    "     'couchdb':couchdb,\n",
    "     'hbase':hbase,\n",
    "     'cassandra':cassandra,\n",
    "     'mongodb':mongodb,\n",
    "     'db2':db2}"
   ]
  },
  {
   "cell_type": "code",
   "execution_count": 559,
   "metadata": {},
   "outputs": [
    {
     "data": {
      "text/plain": [
       "{'job_title': ['Data Scientist job at comScore, Inc.',\n",
       "  'Data Scientist job at comScore, Inc.',\n",
       "  'Data Scientist job at comScore, Inc.'],\n",
       " 'state': ['NY', 'NY', 'NY'],\n",
       " 'r': [0, 0, 1],\n",
       " 'python': [0, 0, 1],\n",
       " 'java': [0, 0, 0],\n",
       " 'c++': [0, 0, 0],\n",
       " 'ruby': [0, 0, 0],\n",
       " 'perl': [0, 0, 0],\n",
       " 'matlab': [0, 0, 0],\n",
       " 'javascript': [0, 0, 0],\n",
       " 'scala': [0, 0, 0],\n",
       " 'excel': [0, 0, 0],\n",
       " 'vba': [0, 0, 0],\n",
       " 'tableau': [0, 0, 0],\n",
       " 'd3': [0, 0, 0],\n",
       " 'hadoop': [0, 0, 0],\n",
       " 'mapreduce': [0, 0, 0],\n",
       " 'spark': [0, 0, 1],\n",
       " 'pig': [0, 0, 0],\n",
       " 'hive': [0, 0, 0],\n",
       " 'shark': [0, 0, 0],\n",
       " 'oozie': [0, 0, 0],\n",
       " 'zookeeper': [0, 0, 0],\n",
       " 'flume': [0, 0, 0],\n",
       " 'mahout': [0, 0, 0],\n",
       " 'sql': [0, 0, 1],\n",
       " 'mysql': [0, 0, 0],\n",
       " 'oracle': [0, 0, 0],\n",
       " 'postgresql': [0, 0, 0],\n",
       " 'nosql': [0, 0, 0],\n",
       " 'sybase': [0, 0, 0],\n",
       " 'rethinkdb': [0, 0, 0],\n",
       " 'memcacheddb': [0, 0, 0],\n",
       " 'couchdb': [0, 0, 0],\n",
       " 'hbase': [0, 0, 0],\n",
       " 'cassandra': [0, 0, 0],\n",
       " 'mongodb': [0, 0, 0],\n",
       " 'db2': [0, 0, 0]}"
      ]
     },
     "execution_count": 559,
     "metadata": {},
     "output_type": "execute_result"
    }
   ],
   "source": [
    "dictionary"
   ]
  },
  {
   "cell_type": "code",
   "execution_count": null,
   "metadata": {},
   "outputs": [],
   "source": []
  }
 ],
 "metadata": {
  "kernelspec": {
   "display_name": "Python 3",
   "language": "python",
   "name": "python3"
  },
  "language_info": {
   "codemirror_mode": {
    "name": "ipython",
    "version": 3
   },
   "file_extension": ".py",
   "mimetype": "text/x-python",
   "name": "python",
   "nbconvert_exporter": "python",
   "pygments_lexer": "ipython3",
   "version": "3.6.8"
  }
 },
 "nbformat": 4,
 "nbformat_minor": 2
}
