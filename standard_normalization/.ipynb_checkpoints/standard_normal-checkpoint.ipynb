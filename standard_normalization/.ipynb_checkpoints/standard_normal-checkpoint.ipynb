{
 "cells": [
  {
   "cell_type": "markdown",
   "metadata": {},
   "source": [
    "# The Standard Normal Transformation"
   ]
  },
  {
   "cell_type": "markdown",
   "metadata": {},
   "source": [
    "# Intro"
   ]
  },
  {
   "cell_type": "markdown",
   "metadata": {},
   "source": [
    "In this project, we will transorm a column of data using the standard normal transformation:\n",
    "### $$ x' = \\frac{ x - mean(x) }{ std(x) } $$\n",
    "This transformation changes the column of data in two ways:\n",
    "- the data's average value becomes zero\n",
    "- the data's standard deviation becomes one"
   ]
  },
  {
   "cell_type": "markdown",
   "metadata": {},
   "source": [
    "<a id = 'section0'></a>"
   ]
  },
  {
   "cell_type": "markdown",
   "metadata": {},
   "source": [
    "# Outline\n",
    "First - <a href='#section1'>extract the data</a>   \n",
    "  \n",
    "Second - <a href='#section2'>plot the column of data</a>  \n",
    "  \n",
    "Third - <a href='#section3'>transform the column of data</a>  \n",
    "  \n",
    "Fourth - <a href='#section4'>plot the transformed column of data</a>  \n",
    "  \n",
    "Fifth - <a href='#section5'>plot the original data and the transformed data side by side</a>  "
   ]
  },
  {
   "cell_type": "code",
   "execution_count": 1,
   "metadata": {},
   "outputs": [],
   "source": [
    "import pandas as pd"
   ]
  },
  {
   "cell_type": "markdown",
   "metadata": {},
   "source": [
    "# Import the data"
   ]
  },
  {
   "cell_type": "markdown",
   "metadata": {},
   "source": [
    "First we will import a table of data "
   ]
  },
  {
   "cell_type": "code",
   "execution_count": 82,
   "metadata": {},
   "outputs": [],
   "source": [
    "raw_data = pd.read_csv('data/scraped_data_data-scientist_5-3-2019.txt')"
   ]
  },
  {
   "cell_type": "code",
   "execution_count": 15,
   "metadata": {},
   "outputs": [],
   "source": [
    "import matplotlib.pyplot as plt # Plot the data\n",
    "import matplotlib as mpl # Change tick label size"
   ]
  },
  {
   "cell_type": "markdown",
   "metadata": {},
   "source": [
    "# Explore the data"
   ]
  },
  {
   "cell_type": "markdown",
   "metadata": {},
   "source": [
    "We will choose to look at the histogram of the total jobs in each state"
   ]
  },
  {
   "cell_type": "markdown",
   "metadata": {},
   "source": [
    "## View the data"
   ]
  },
  {
   "cell_type": "code",
   "execution_count": 50,
   "metadata": {},
   "outputs": [
    {
     "data": {
      "text/html": [
       "<div>\n",
       "<style scoped>\n",
       "    .dataframe tbody tr th:only-of-type {\n",
       "        vertical-align: middle;\n",
       "    }\n",
       "\n",
       "    .dataframe tbody tr th {\n",
       "        vertical-align: top;\n",
       "    }\n",
       "\n",
       "    .dataframe thead th {\n",
       "        text-align: right;\n",
       "    }\n",
       "</style>\n",
       "<table border=\"1\" class=\"dataframe\">\n",
       "  <thead>\n",
       "    <tr style=\"text-align: right;\">\n",
       "      <th></th>\n",
       "      <th>job_title</th>\n",
       "      <th>state</th>\n",
       "      <th>total_jobs</th>\n",
       "      <th>alteryx</th>\n",
       "      <th>amazon</th>\n",
       "      <th>anaconda</th>\n",
       "      <th>angoss</th>\n",
       "      <th>api</th>\n",
       "      <th>azure</th>\n",
       "      <th>c</th>\n",
       "      <th>...</th>\n",
       "      <th>tibco</th>\n",
       "      <th>torch</th>\n",
       "      <th>trifacta</th>\n",
       "      <th>tsql</th>\n",
       "      <th>unix</th>\n",
       "      <th>vba</th>\n",
       "      <th>watson</th>\n",
       "      <th>weka</th>\n",
       "      <th>yarn</th>\n",
       "      <th>zookeeper</th>\n",
       "    </tr>\n",
       "  </thead>\n",
       "  <tbody>\n",
       "    <tr>\n",
       "      <th>0</th>\n",
       "      <td>lead data scientist, Data %26 Measurement Scie...</td>\n",
       "      <td>WA</td>\n",
       "      <td>2311</td>\n",
       "      <td>0</td>\n",
       "      <td>0</td>\n",
       "      <td>0</td>\n",
       "      <td>0</td>\n",
       "      <td>0</td>\n",
       "      <td>0</td>\n",
       "      <td>0</td>\n",
       "      <td>...</td>\n",
       "      <td>0</td>\n",
       "      <td>0</td>\n",
       "      <td>0</td>\n",
       "      <td>0</td>\n",
       "      <td>0</td>\n",
       "      <td>0</td>\n",
       "      <td>0</td>\n",
       "      <td>0</td>\n",
       "      <td>0</td>\n",
       "      <td>0</td>\n",
       "    </tr>\n",
       "    <tr>\n",
       "      <th>1</th>\n",
       "      <td>Data Scientist Class A - II</td>\n",
       "      <td>WA</td>\n",
       "      <td>2311</td>\n",
       "      <td>0</td>\n",
       "      <td>0</td>\n",
       "      <td>0</td>\n",
       "      <td>0</td>\n",
       "      <td>0</td>\n",
       "      <td>0</td>\n",
       "      <td>0</td>\n",
       "      <td>...</td>\n",
       "      <td>0</td>\n",
       "      <td>0</td>\n",
       "      <td>0</td>\n",
       "      <td>0</td>\n",
       "      <td>0</td>\n",
       "      <td>0</td>\n",
       "      <td>0</td>\n",
       "      <td>0</td>\n",
       "      <td>0</td>\n",
       "      <td>0</td>\n",
       "    </tr>\n",
       "  </tbody>\n",
       "</table>\n",
       "<p>2 rows × 135 columns</p>\n",
       "</div>"
      ],
      "text/plain": [
       "                                           job_title state  total_jobs  \\\n",
       "0  lead data scientist, Data %26 Measurement Scie...    WA        2311   \n",
       "1                        Data Scientist Class A - II    WA        2311   \n",
       "\n",
       "   alteryx  amazon  anaconda  angoss  api  azure  c  ...  tibco  torch  \\\n",
       "0        0       0         0       0    0      0  0  ...      0      0   \n",
       "1        0       0         0       0    0      0  0  ...      0      0   \n",
       "\n",
       "   trifacta  tsql  unix  vba  watson  weka  yarn  zookeeper  \n",
       "0         0     0     0    0       0     0     0          0  \n",
       "1         0     0     0    0       0     0     0          0  \n",
       "\n",
       "[2 rows x 135 columns]"
      ]
     },
     "execution_count": 50,
     "metadata": {},
     "output_type": "execute_result"
    }
   ],
   "source": [
    "raw_data.head(2)"
   ]
  },
  {
   "cell_type": "markdown",
   "metadata": {},
   "source": [
    "<a id = 'section1'></a>"
   ]
  },
  {
   "cell_type": "markdown",
   "metadata": {},
   "source": [
    "## Extract the total jobs and state column (<a href='#section0'>Back to outline</a>)"
   ]
  },
  {
   "cell_type": "code",
   "execution_count": 47,
   "metadata": {},
   "outputs": [
    {
     "data": {
      "text/html": [
       "<div>\n",
       "<style scoped>\n",
       "    .dataframe tbody tr th:only-of-type {\n",
       "        vertical-align: middle;\n",
       "    }\n",
       "\n",
       "    .dataframe tbody tr th {\n",
       "        vertical-align: top;\n",
       "    }\n",
       "\n",
       "    .dataframe thead th {\n",
       "        text-align: right;\n",
       "    }\n",
       "</style>\n",
       "<table border=\"1\" class=\"dataframe\">\n",
       "  <thead>\n",
       "    <tr style=\"text-align: right;\">\n",
       "      <th></th>\n",
       "      <th>total_jobs</th>\n",
       "      <th>state</th>\n",
       "    </tr>\n",
       "  </thead>\n",
       "  <tbody>\n",
       "    <tr>\n",
       "      <th>0</th>\n",
       "      <td>2311</td>\n",
       "      <td>WA</td>\n",
       "    </tr>\n",
       "    <tr>\n",
       "      <th>1</th>\n",
       "      <td>2311</td>\n",
       "      <td>WA</td>\n",
       "    </tr>\n",
       "  </tbody>\n",
       "</table>\n",
       "</div>"
      ],
      "text/plain": [
       "   total_jobs state\n",
       "0        2311    WA\n",
       "1        2311    WA"
      ]
     },
     "execution_count": 47,
     "metadata": {},
     "output_type": "execute_result"
    }
   ],
   "source": [
    "total_jobs_and_state = raw_data[['total_jobs','state']]\n",
    "total_jobs_and_state.head(2)"
   ]
  },
  {
   "cell_type": "markdown",
   "metadata": {},
   "source": [
    "## Get the total jobs in each state"
   ]
  },
  {
   "cell_type": "code",
   "execution_count": 92,
   "metadata": {},
   "outputs": [
    {
     "data": {
      "text/html": [
       "<div>\n",
       "<style scoped>\n",
       "    .dataframe tbody tr th:only-of-type {\n",
       "        vertical-align: middle;\n",
       "    }\n",
       "\n",
       "    .dataframe tbody tr th {\n",
       "        vertical-align: top;\n",
       "    }\n",
       "\n",
       "    .dataframe thead th {\n",
       "        text-align: right;\n",
       "    }\n",
       "</style>\n",
       "<table border=\"1\" class=\"dataframe\">\n",
       "  <thead>\n",
       "    <tr style=\"text-align: right;\">\n",
       "      <th></th>\n",
       "      <th>total_jobs</th>\n",
       "    </tr>\n",
       "    <tr>\n",
       "      <th>state</th>\n",
       "      <th></th>\n",
       "    </tr>\n",
       "  </thead>\n",
       "  <tbody>\n",
       "    <tr>\n",
       "      <th>AK</th>\n",
       "      <td>63</td>\n",
       "    </tr>\n",
       "    <tr>\n",
       "      <th>AL</th>\n",
       "      <td>484</td>\n",
       "    </tr>\n",
       "    <tr>\n",
       "      <th>AR</th>\n",
       "      <td>139</td>\n",
       "    </tr>\n",
       "    <tr>\n",
       "      <th>AZ</th>\n",
       "      <td>1112</td>\n",
       "    </tr>\n",
       "    <tr>\n",
       "      <th>CA</th>\n",
       "      <td>7520</td>\n",
       "    </tr>\n",
       "  </tbody>\n",
       "</table>\n",
       "</div>"
      ],
      "text/plain": [
       "       total_jobs\n",
       "state            \n",
       "AK             63\n",
       "AL            484\n",
       "AR            139\n",
       "AZ           1112\n",
       "CA           7520"
      ]
     },
     "execution_count": 92,
     "metadata": {},
     "output_type": "execute_result"
    }
   ],
   "source": [
    "total_jobs = total_jobs_and_state.groupby('state').mean()\n",
    "total_jobs.head(5)"
   ]
  },
  {
   "cell_type": "markdown",
   "metadata": {},
   "source": [
    "## Export an image of the dataframe\n",
    "## ref: https://stackoverflow.com/questions/26678467/export-a-pandas-dataframe-as-a-table-image"
   ]
  },
  {
   "cell_type": "code",
   "execution_count": 77,
   "metadata": {},
   "outputs": [
    {
     "data": {
      "image/png": "[encoded data removed]",
      "text/plain": [
       "<Figure size 288x270 with 1 Axes>"
      ]
     },
     "metadata": {
      "needs_background": "light"
     },
     "output_type": "display_data"
    }
   ],
   "source": [
    "df=[]\n",
    "df = total_jobs\n",
    "df['state'] = total_jobs.index\n",
    "df = df[['state','total_jobs']]\n",
    "df = df.head(5)\n",
    "\n",
    "import six\n",
    "\n",
    "def render_mpl_table(data, col_width=3.0, row_height=0.625, font_size=14,\n",
    "                     header_color='#40466e', row_colors=['#f1f1f2', 'w'], edge_color='w',\n",
    "                     bbox=[0, 0, 1, 1], header_columns=0,\n",
    "                     ax=None, **kwargs):\n",
    "    if ax is None:\n",
    "        size = (np.array(data.shape[::-1]) + np.array([0, 1])) * np.array([col_width, row_height])\n",
    "        fig, ax = plt.subplots(figsize=size)\n",
    "        ax.axis('off')\n",
    "\n",
    "    mpl_table = ax.table(cellText=data.values, bbox=bbox, colLabels=data.columns, **kwargs)\n",
    "\n",
    "    mpl_table.auto_set_font_size(False)\n",
    "    mpl_table.set_fontsize(font_size)\n",
    "\n",
    "    for k, cell in  six.iteritems(mpl_table._cells):\n",
    "        cell.set_edgecolor(edge_color)\n",
    "        if k[0] == 0 or k[1] < header_columns:\n",
    "            cell.set_text_props(weight='bold', color='w')\n",
    "            cell.set_facecolor(header_color)\n",
    "        else:\n",
    "            cell.set_facecolor(row_colors[k[0]%len(row_colors) ])\n",
    "    return fig, ax\n",
    "\n",
    "fig, ax = render_mpl_table(df, header_columns=0, col_width=2.0)\n",
    "fig.savefig('figs/total_jobs_table.png')\n",
    "fig.show()"
   ]
  },
  {
   "cell_type": "markdown",
   "metadata": {},
   "source": [
    "## Get the Mean and Standard Deviation"
   ]
  },
  {
   "cell_type": "code",
   "execution_count": 7,
   "metadata": {},
   "outputs": [
    {
     "data": {
      "text/plain": [
       "('mean: 919.142857143', 'std: 1427.7670941')"
      ]
     },
     "execution_count": 7,
     "metadata": {},
     "output_type": "execute_result"
    }
   ],
   "source": [
    "mean_total_jobs = total_jobs['total_jobs'].mean()\n",
    "std_total_jobs = total_jobs['total_jobs'].std()\n",
    "'mean: '+str(mean_total_jobs),'std: '+str(std_total_jobs)"
   ]
  },
  {
   "cell_type": "markdown",
   "metadata": {},
   "source": [
    "<a id='section2'> </a>"
   ]
  },
  {
   "cell_type": "markdown",
   "metadata": {},
   "source": [
    "# View the total_jobs distribution (<a href='#section0'>Back to outline</a>)"
   ]
  },
  {
   "cell_type": "code",
   "execution_count": 98,
   "metadata": {},
   "outputs": [
    {
     "data": {
      "text/plain": [
       "[]"
      ]
     },
     "execution_count": 98,
     "metadata": {},
     "output_type": "execute_result"
    },
    {
     "data": {
      "image/png": "[encoded data removed]",
      "text/plain": [
       "<Figure size 720x720 with 1 Axes>"
      ]
     },
     "metadata": {
      "needs_background": "light"
     },
     "output_type": "display_data"
    }
   ],
   "source": [
    "plt.figure(figsize=(10,10))\n",
    "\n",
    "mpl.rcParams['font.size']=20\n",
    "mpl.rcParams.update()\n",
    "\n",
    "ax_1 = total_jobs['total_jobs'].plot(kind='hist',\n",
    "                                     width=700,\n",
    "                                     label='')\n",
    "\n",
    "# We plot a vertical lines for the mean value and std\n",
    "plt.vlines(mean_total_jobs,\n",
    "           ymin=0,\n",
    "          ymax=32.5,\n",
    "          linestyle='solid',\n",
    "          label=u'mean')\n",
    "plt.vlines(mean_total_jobs+std_total_jobs,\n",
    "          ymin=0,\n",
    "          ymax=32.5,\n",
    "          linewidth=5,\n",
    "          linestyle='dashed')\n",
    "plt.vlines(mean_total_jobs-std_total_jobs,\n",
    "          ymin=0,\n",
    "          ymax=32.5,\n",
    "          linestyle='dashed',\n",
    "          linewidth=5,\n",
    "          label=u'mean ± std')\n",
    "\n",
    "plt.ylim([0,32.5])\n",
    "\n",
    "plt.xlabel('Total Jobs')\n",
    "plt.ylabel('Frequency') \n",
    "\n",
    "plt.legend()\n",
    "plt.savefig('figs/total_jobs.png',bbox_inches='tight')\n",
    "plt.plot()"
   ]
  },
  {
   "cell_type": "code",
   "execution_count": 33,
   "metadata": {},
   "outputs": [],
   "source": [
    "from sklearn.preprocessing import StandardScaler"
   ]
  },
  {
   "cell_type": "markdown",
   "metadata": {},
   "source": [
    "<a id='section3'> </a>"
   ]
  },
  {
   "cell_type": "markdown",
   "metadata": {},
   "source": [
    "# Transform the data (<a href='#section0'>Back to outline</a>)"
   ]
  },
  {
   "cell_type": "code",
   "execution_count": 34,
   "metadata": {},
   "outputs": [
    {
     "name": "stderr",
     "output_type": "stream",
     "text": [
      "/Users/mikegiacomazza/anaconda3/envs/RotatingIpEnv/lib/python2.7/site-packages/ipykernel_launcher.py:4: DataConversionWarning: Data with input dtype int64 were all converted to float64 by StandardScaler.\n",
      "  after removing the cwd from sys.path.\n"
     ]
    }
   ],
   "source": [
    "# We use the Standard Scalar Object to Transform the data\n",
    "stand_scal = StandardScaler()\n",
    "stand_scal.fit(total_jobs)\n",
    "stand_norm_total_jobs = stand_scal.transform(total_jobs)"
   ]
  },
  {
   "cell_type": "code",
   "execution_count": 35,
   "metadata": {},
   "outputs": [],
   "source": [
    "transformed_total_jobs = pd.DataFrame(stand_norm_total_jobs,columns=['transformed_total_jobs'])"
   ]
  },
  {
   "cell_type": "markdown",
   "metadata": {},
   "source": [
    "## Export an image of the original dataframe vs the transformed dataframe\n",
    "## ref: https://stackoverflow.com/questions/26678467/export-a-pandas-dataframe-as-a-table-image"
   ]
  },
  {
   "cell_type": "code",
   "execution_count": 149,
   "metadata": {},
   "outputs": [
    {
     "data": {
      "image/png": "[encoded data removed]",
      "text/plain": [
       "<Figure size 828x666 with 1 Axes>"
      ]
     },
     "metadata": {
      "needs_background": "light"
     },
     "output_type": "display_data"
    }
   ],
   "source": [
    "df2 = []\n",
    "df2 = transformed_total_jobs\n",
    "df2['state'] = total_jobs.index\n",
    "df2 = df2.groupby('state').mean()\n",
    "df2['state'] = total_jobs.index\n",
    "df2['total_jobs'] = df.total_jobs\n",
    "df2 = df2[['state','total_jobs','transformed_total_jobs']]\n",
    "df2 = df2.head(5)\n",
    "\n",
    "import six\n",
    "\n",
    "def render_mpl_table(data, col_width=3.0, row_height=0.625, font_size=16,\n",
    "                     header_color='#40466e', row_colors=['#f1f1f2', 'w'], edge_color='w',\n",
    "                     bbox=[0, 0, 1, 1], header_columns=0,\n",
    "                     ax=None, **kwargs):\n",
    "    if ax is None:\n",
    "        size = (np.array(data.shape[::-1]) + np.array([0, 1])) * np.array([col_width, row_height])\n",
    "        fig, ax = plt.subplots(figsize=size+5.5)\n",
    "        ax.axis('off')\n",
    "\n",
    "    mpl_table = ax.table(cellText=data.values, bbox=bbox, colLabels=data.columns, **kwargs)\n",
    "\n",
    "    mpl_table.auto_set_font_size(False)\n",
    "    mpl_table.set_fontsize(font_size)\n",
    "\n",
    "    for k, cell in  six.iteritems(mpl_table._cells):\n",
    "        cell.set_edgecolor(edge_color)\n",
    "        if k[0] == 0 or k[1] < header_columns:\n",
    "            cell.set_text_props(weight='bold', color='w')\n",
    "            cell.set_facecolor(header_color)\n",
    "        else:\n",
    "            cell.set_facecolor(row_colors[k[0]%len(row_colors) ])\n",
    "    return fig, ax\n",
    "\n",
    "fig, ax = render_mpl_table(df2, header_columns=0, col_width=2.0)\n",
    "fig.savefig('figs/total_jobs_vs_transformed_total_jobs_table.png')\n",
    "fig.show()\n"
   ]
  },
  {
   "cell_type": "markdown",
   "metadata": {},
   "source": [
    "# Get the Mean and Standard Deviation"
   ]
  },
  {
   "cell_type": "code",
   "execution_count": 36,
   "metadata": {},
   "outputs": [
    {
     "data": {
      "text/plain": [
       "('mean: transformed_total_jobs    6.004267e-17\\ndtype: float64',\n",
       " 'std: transformed_total_jobs    1.010363\\ndtype: float64')"
      ]
     },
     "execution_count": 36,
     "metadata": {},
     "output_type": "execute_result"
    }
   ],
   "source": [
    "mean_transformed_total_jobs = transformed_total_jobs.mean()\n",
    "std_transformed_total_jobs = transformed_total_jobs.std()\n",
    "'mean: '+str(mean_transformed_total_jobs),'std: '+str(std_transformed_total_jobs)"
   ]
  },
  {
   "cell_type": "markdown",
   "metadata": {},
   "source": [
    "<a id='section4'> </a>"
   ]
  },
  {
   "cell_type": "markdown",
   "metadata": {},
   "source": [
    "# View the Transformed total_jobs distribution (<a href='#section0'>Back to outline</a>)"
   ]
  },
  {
   "cell_type": "code",
   "execution_count": 37,
   "metadata": {},
   "outputs": [
    {
     "data": {
      "text/plain": [
       "[]"
      ]
     },
     "execution_count": 37,
     "metadata": {},
     "output_type": "execute_result"
    },
    {
     "data": {
      "image/png": "[encoded data removed]",
      "text/plain": [
       "<Figure size 720x720 with 1 Axes>"
      ]
     },
     "metadata": {
      "needs_background": "light"
     },
     "output_type": "display_data"
    }
   ],
   "source": [
    "plt.figure(figsize=(10,10))\n",
    "\n",
    "mpl.rcParams['font.size']=20\n",
    "mpl.rcParams.update()\n",
    "\n",
    "ax_2 = transformed_total_jobs['transformed_total_jobs'].plot(kind='hist',\n",
    "                                                             bins = 10,\n",
    "                                                             width=.4,\n",
    "                                                            label='')\n",
    "\n",
    "# We plot a vertical lines for the mean value and std\n",
    "plt.vlines(mean_transformed_total_jobs,\n",
    "           ymin=0,\n",
    "          ymax=32.5,\n",
    "          linestyle='solid',\n",
    "          label=u'mean')\n",
    "plt.vlines(mean_transformed_total_jobs+std_transformed_total_jobs,\n",
    "          ymin=0,\n",
    "          ymax=32.5,\n",
    "          linewidth=5,\n",
    "          linestyle='dashed')\n",
    "plt.vlines(mean_transformed_total_jobs-std_transformed_total_jobs,\n",
    "          ymin=0,\n",
    "          ymax=32.5,\n",
    "          linestyle='dashed',\n",
    "          linewidth=5,\n",
    "          label=u'mean ± std')\n",
    "\n",
    "plt.ylim([0,32.5])\n",
    "\n",
    "plt.legend()\n",
    "\n",
    "plt.xlabel('Total Jobs (Normalized)')\n",
    "plt.ylabel('Frequency') \n",
    "\n",
    "plt.plot()"
   ]
  },
  {
   "cell_type": "markdown",
   "metadata": {},
   "source": [
    "<a id='section5'> </a>"
   ]
  },
  {
   "cell_type": "markdown",
   "metadata": {},
   "source": [
    "# View the total_jobs distribution and the Transformed total_jobs distribution side by side (<a href='#section0'>Back to outline</a>)"
   ]
  },
  {
   "cell_type": "code",
   "execution_count": 109,
   "metadata": {},
   "outputs": [
    {
     "data": {
      "image/png": "[encoded data removed]",
      "text/plain": [
       "<Figure size 1440x720 with 2 Axes>"
      ]
     },
     "metadata": {
      "needs_background": "light"
     },
     "output_type": "display_data"
    }
   ],
   "source": [
    "fig,ax = plt.subplots(nrows=1,ncols=2,figsize=(20,10))\n",
    "\n",
    "mpl.rcParams['font.size']=20\n",
    "mpl.rcParams.update()\n",
    "\n",
    "plt.suptitle('Total Jobs VS. Normalized Total Jobs',x=.5,y=1.05,fontsize=40)\n",
    "\n",
    "# We plot the transformed total jobs distribution for ax[0]\n",
    "total_jobs['total_jobs'].plot(ax = ax[0],\n",
    "                               kind='hist',\n",
    "                               bins = 10,\n",
    "                               width=620)\n",
    "\n",
    "ax[0].set_ylabel('Frequency',fontsize=30)\n",
    "ax[0].set_xlabel('Total Jobs',fontsize=30)\n",
    "\n",
    "# We plot a vertical lines for the mean value and std for ax[0]\n",
    "ax[0].vlines(mean_total_jobs,\n",
    "             ymin=0,\n",
    "             ymax=32.5,\n",
    "             linestyle='solid',\n",
    "             label='mean')\n",
    "ax[0].vlines(mean_total_jobs+std_total_jobs,\n",
    "          ymin=0,\n",
    "          ymax=32.5,\n",
    "          linewidth=5,\n",
    "          linestyle='dashed')\n",
    "ax[0].vlines(mean_total_jobs-std_total_jobs,\n",
    "            ymin=0,\n",
    "            ymax=32.5,\n",
    "            linestyle='dashed',\n",
    "            linewidth=5,\n",
    "            label=u'mean ± std')\n",
    "\n",
    "ax[0].set_ylim((0,32.5))\n",
    "# We plot the transformed total jobs distribution for ax[1]\n",
    "transformed_total_jobs['transformed_total_jobs'].plot(ax = ax[1],\n",
    "                                                        kind='hist',\n",
    "                                                        bins = 10,\n",
    "                                                        width=.45,\n",
    "                                                        label = '')\n",
    "ax[1].set_ylabel('Frequency',fontsize=30)\n",
    "ax[1].set_xlabel('Total Jobs (Normalized)',fontsize=30)\n",
    "\n",
    "# We plot a vertical lines for the mean value and std for ax[1]\n",
    "ax[1].vlines(mean_transformed_total_jobs,\n",
    "            ymin=0,\n",
    "            ymax=32.5,\n",
    "            linestyle='solid',\n",
    "            label='mean')\n",
    "ax[1].vlines(mean_transformed_total_jobs+std_transformed_total_jobs,\n",
    "             ymin=0,\n",
    "             ymax=32.5,\n",
    "             linestyle='dashed',\n",
    "             linewidth=5)\n",
    "ax[1].vlines(mean_transformed_total_jobs-std_transformed_total_jobs,\n",
    "             ymin=0,\n",
    "             ymax=32.5,\n",
    "             linestyle='dashed',\n",
    "             linewidth=5,\n",
    "             label=u'mean ± std')\n",
    "\n",
    "\n",
    "ax[1].set_ylim((0,32.5))\n",
    "\n",
    "ax[1].legend(fontsize=30)\n",
    "plt.tight_layout()\n",
    "\n",
    "fig.savefig('figs/total_jobs_vs_normalized_jobs.png',bbox_inches='tight')\n",
    "plt.show()"
   ]
  },
  {
   "cell_type": "markdown",
   "metadata": {},
   "source": [
    "## What do we see?\n",
    "We can observe the two things that we were expecting in the final side-by-side plot:  \n",
    "\n",
    "- first - the mean value of the normalized data is 0  \n",
    "\n",
    "- second - the standard deviation of the normalized data is 1"
   ]
  }
 ],
 "metadata": {
  "kernelspec": {
   "display_name": "Python 2",
   "language": "python",
   "name": "python2"
  },
  "language_info": {
   "codemirror_mode": {
    "name": "ipython",
    "version": 2
   },
   "file_extension": ".py",
   "mimetype": "text/x-python",
   "name": "python",
   "nbconvert_exporter": "python",
   "pygments_lexer": "ipython2",
   "version": "2.7.15"
  }
 },
 "nbformat": 4,
 "nbformat_minor": 2
}
